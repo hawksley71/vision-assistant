{
 "cells": [
  {
   "cell_type": "code",
   "execution_count": 9,
   "metadata": {},
   "outputs": [
    {
     "name": "stdout",
     "output_type": "stream",
     "text": [
      "Found 368 log files.\n",
      "Combined DataFrame shape: (8492, 10)\n"
     ]
    },
    {
     "data": {
      "text/html": [
       "<div>\n",
       "<style scoped>\n",
       "    .dataframe tbody tr th:only-of-type {\n",
       "        vertical-align: middle;\n",
       "    }\n",
       "\n",
       "    .dataframe tbody tr th {\n",
       "        vertical-align: top;\n",
       "    }\n",
       "\n",
       "    .dataframe thead th {\n",
       "        text-align: right;\n",
       "    }\n",
       "</style>\n",
       "<table border=\"1\" class=\"dataframe\">\n",
       "  <thead>\n",
       "    <tr style=\"text-align: right;\">\n",
       "      <th></th>\n",
       "      <th>timestamp</th>\n",
       "      <th>label_1</th>\n",
       "      <th>count_1</th>\n",
       "      <th>avg_conf_1</th>\n",
       "      <th>label_2</th>\n",
       "      <th>count_2</th>\n",
       "      <th>avg_conf_2</th>\n",
       "      <th>label_3</th>\n",
       "      <th>count_3</th>\n",
       "      <th>avg_conf_3</th>\n",
       "    </tr>\n",
       "  </thead>\n",
       "  <tbody>\n",
       "    <tr>\n",
       "      <th>0</th>\n",
       "      <td>2025-04-19 23:58:00</td>\n",
       "      <td>racoon</td>\n",
       "      <td>3</td>\n",
       "      <td>0.74</td>\n",
       "      <td>NaN</td>\n",
       "      <td>NaN</td>\n",
       "      <td>NaN</td>\n",
       "      <td>NaN</td>\n",
       "      <td>NaN</td>\n",
       "      <td>NaN</td>\n",
       "    </tr>\n",
       "    <tr>\n",
       "      <th>1</th>\n",
       "      <td>2025-04-19 01:45:00</td>\n",
       "      <td>racoon</td>\n",
       "      <td>3</td>\n",
       "      <td>0.94</td>\n",
       "      <td>NaN</td>\n",
       "      <td>NaN</td>\n",
       "      <td>NaN</td>\n",
       "      <td>NaN</td>\n",
       "      <td>NaN</td>\n",
       "      <td>NaN</td>\n",
       "    </tr>\n",
       "    <tr>\n",
       "      <th>2</th>\n",
       "      <td>2025-04-19 08:09:00</td>\n",
       "      <td>dog</td>\n",
       "      <td>5</td>\n",
       "      <td>0.88</td>\n",
       "      <td>stroller</td>\n",
       "      <td>2.0</td>\n",
       "      <td>0.82</td>\n",
       "      <td>NaN</td>\n",
       "      <td>NaN</td>\n",
       "      <td>NaN</td>\n",
       "    </tr>\n",
       "    <tr>\n",
       "      <th>3</th>\n",
       "      <td>2025-04-19 17:44:00</td>\n",
       "      <td>ups truck</td>\n",
       "      <td>4</td>\n",
       "      <td>0.67</td>\n",
       "      <td>NaN</td>\n",
       "      <td>NaN</td>\n",
       "      <td>NaN</td>\n",
       "      <td>NaN</td>\n",
       "      <td>NaN</td>\n",
       "      <td>NaN</td>\n",
       "    </tr>\n",
       "    <tr>\n",
       "      <th>4</th>\n",
       "      <td>2025-04-19 06:16:00</td>\n",
       "      <td>dog</td>\n",
       "      <td>5</td>\n",
       "      <td>0.54</td>\n",
       "      <td>car</td>\n",
       "      <td>1.0</td>\n",
       "      <td>0.97</td>\n",
       "      <td>stroller</td>\n",
       "      <td>4.0</td>\n",
       "      <td>0.53</td>\n",
       "    </tr>\n",
       "  </tbody>\n",
       "</table>\n",
       "</div>"
      ],
      "text/plain": [
       "             timestamp    label_1  count_1  avg_conf_1   label_2  count_2  \\\n",
       "0  2025-04-19 23:58:00     racoon        3        0.74       NaN      NaN   \n",
       "1  2025-04-19 01:45:00     racoon        3        0.94       NaN      NaN   \n",
       "2  2025-04-19 08:09:00        dog        5        0.88  stroller      2.0   \n",
       "3  2025-04-19 17:44:00  ups truck        4        0.67       NaN      NaN   \n",
       "4  2025-04-19 06:16:00        dog        5        0.54       car      1.0   \n",
       "\n",
       "   avg_conf_2   label_3  count_3  avg_conf_3  \n",
       "0         NaN       NaN      NaN         NaN  \n",
       "1         NaN       NaN      NaN         NaN  \n",
       "2        0.82       NaN      NaN         NaN  \n",
       "3         NaN       NaN      NaN         NaN  \n",
       "4        0.97  stroller      4.0        0.53  "
      ]
     },
     "metadata": {},
     "output_type": "display_data"
    }
   ],
   "source": [
    "import os\n",
    "import pandas as pd\n",
    "\n",
    "log_dir = '../data/raw'  # Adjust path if needed\n",
    "log_files = [f for f in os.listdir(log_dir) if f.endswith('.csv')]\n",
    "print(f'Found {len(log_files)} log files.')\n",
    "\n",
    "all_dfs = []\n",
    "for f in log_files:\n",
    "    file_path = os.path.join(log_dir, f)\n",
    "    try:\n",
    "        df = pd.read_csv(file_path)\n",
    "        all_dfs.append(df)\n",
    "    except Exception as e:\n",
    "        print(f'Error loading {f}: {e}')\n",
    "\n",
    "if all_dfs:\n",
    "    combined_df = pd.concat(all_dfs, ignore_index=True)\n",
    "    print(f'Combined DataFrame shape: {combined_df.shape}')\n",
    "    display(combined_df.head())\n",
    "else:\n",
    "    print('No valid log files found.')"
   ]
  },
  {
   "cell_type": "code",
   "execution_count": 10,
   "metadata": {},
   "outputs": [
    {
     "name": "stdout",
     "output_type": "stream",
     "text": [
      "<class 'pandas.core.frame.DataFrame'>\n",
      "RangeIndex: 8492 entries, 0 to 8491\n",
      "Data columns (total 10 columns):\n",
      " #   Column      Non-Null Count  Dtype  \n",
      "---  ------      --------------  -----  \n",
      " 0   timestamp   8492 non-null   object \n",
      " 1   label_1     8492 non-null   object \n",
      " 2   count_1     8492 non-null   int64  \n",
      " 3   avg_conf_1  8492 non-null   float64\n",
      " 4   label_2     1751 non-null   object \n",
      " 5   count_2     1751 non-null   float64\n",
      " 6   avg_conf_2  1751 non-null   float64\n",
      " 7   label_3     672 non-null    object \n",
      " 8   count_3     672 non-null    float64\n",
      " 9   avg_conf_3  672 non-null    float64\n",
      "dtypes: float64(5), int64(1), object(4)\n",
      "memory usage: 663.6+ KB\n"
     ]
    }
   ],
   "source": [
    "combined_df.info()"
   ]
  },
  {
   "cell_type": "code",
   "execution_count": 11,
   "metadata": {},
   "outputs": [
    {
     "name": "stdout",
     "output_type": "stream",
     "text": [
      "['racoon' 'dog' 'ups truck' 'newspaper' 'bicycle' 'school bus' 'mail truck' 'chipmunk' 'garbage truck' 'skunk' 'fedex truck' 'stroller' 'person' 'bird' 'prime van' 'cat' 'car' 'recycling truck' 'oil truck' 'truck' 'streetcleaner' 'police car' 'elephant' 'bottle' 'skateboard' 'suitcase' 'bed' 'vase' 'bench' 'bus'\n",
      " 'knife' 'fire truck' 'ice cream truck' 'snow plow' 'ambulance']\n",
      "[nan 'stroller' 'car' 'chipmunk' 'person' 'dog' 'bicycle' 'ups truck' 'bird' 'cat' 'fedex truck' 'truck' 'bottle' 'elephant' 'vase' 'skateboard' 'suitcase' 'bear' 'bed' 'remote' 'bus' 'book' 'surfboard' 'bench' 'prime van']\n",
      "[nan 'stroller' 'ups truck' 'cat' 'car' 'fedex truck' 'truck' 'chipmunk' 'dog' 'bicycle' 'person' 'bird' 'prime van' 'tv' 'vase' 'skateboard' 'suitcase' 'bear' 'horse' 'bed' 'bus' 'mouse' 'laptop' 'book' 'surfboard' 'bench']\n"
     ]
    }
   ],
   "source": [
    "print(combined_df.label_1.unique())\n",
    "print(combined_df.label_2.unique())\n",
    "print(combined_df.label_3.unique())"
   ]
  },
  {
   "cell_type": "code",
   "execution_count": 12,
   "metadata": {},
   "outputs": [
    {
     "name": "stdout",
     "output_type": "stream",
     "text": [
      "                timestamp     label_1\n",
      "9     2025-04-21 07:13:00  school bus\n",
      "10    2025-04-21 15:02:00  school bus\n",
      "15    2025-04-22 07:19:00  school bus\n",
      "16    2025-04-22 15:25:00  school bus\n",
      "23    2025-04-23 07:11:00  school bus\n",
      "...                   ...         ...\n",
      "8469  2025-04-15 15:30:00  school bus\n",
      "8478  2025-04-16 07:01:00  school bus\n",
      "8479  2025-04-16 15:26:00  school bus\n",
      "8484  2025-04-17 07:11:00  school bus\n",
      "8485  2025-04-17 15:21:00  school bus\n",
      "\n",
      "[434 rows x 2 columns]\n"
     ]
    }
   ],
   "source": [
    "# Show all rows with 'school bus' in any label column\n",
    "mask_school_bus = (\n",
    "      combined_df['label_1'].str.lower().str.strip() == 'school bus'\n",
    "  )\n",
    "print(combined_df[mask_school_bus][['timestamp', 'label_1']])"
   ]
  },
  {
   "cell_type": "code",
   "execution_count": null,
   "metadata": {},
   "outputs": [],
   "source": []
  },
  {
   "cell_type": "code",
   "execution_count": null,
   "metadata": {},
   "outputs": [],
   "source": []
  }
 ],
 "metadata": {
  "kernelspec": {
   "display_name": "yolo8",
   "language": "python",
   "name": "python3"
  },
  "language_info": {
   "codemirror_mode": {
    "name": "ipython",
    "version": 3
   },
   "file_extension": ".py",
   "mimetype": "text/x-python",
   "name": "python",
   "nbconvert_exporter": "python",
   "pygments_lexer": "ipython3",
   "version": "3.10.17"
  }
 },
 "nbformat": 4,
 "nbformat_minor": 2
}
