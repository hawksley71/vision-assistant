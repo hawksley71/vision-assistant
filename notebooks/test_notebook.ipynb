{
 "cells": [
  {
   "cell_type": "markdown",
   "metadata": {},
   "source": [
    "# Load and Combine All Logs"
   ]
  },
  {
   "cell_type": "code",
   "execution_count": 1,
   "metadata": {},
   "outputs": [
    {
     "name": "stdout",
     "output_type": "stream",
     "text": [
      "Combined DataFrame shape: (2706, 10)\n"
     ]
    }
   ],
   "source": [
    "import os\n",
    "import pandas as pd\n",
    "\n",
    "log_dir = '../data/raw'  # Adjust if needed\n",
    "log_files = [f for f in os.listdir(log_dir) if f.endswith('.csv')]\n",
    "all_dfs = []\n",
    "for f in log_files:\n",
    "    file_path = os.path.join(log_dir, f)\n",
    "    try:\n",
    "        df = pd.read_csv(file_path)\n",
    "        df['timestamp'] = pd.to_datetime(df['timestamp'])\n",
    "        all_dfs.append(df)\n",
    "    except Exception as e:\n",
    "        print(f\"Error loading {f}: {e}\")\n",
    "if all_dfs:\n",
    "    combined_df = pd.concat(all_dfs, ignore_index=True)\n",
    "    print(f\"Combined DataFrame shape: {combined_df.shape}\")\n",
    "else:\n",
    "    print(\"No valid log files found.\")"
   ]
  },
  {
   "cell_type": "markdown",
   "metadata": {},
   "source": [
    "# Search for \"school bus\" in Any Label Column"
   ]
  },
  {
   "cell_type": "code",
   "execution_count": 2,
   "metadata": {},
   "outputs": [
    {
     "name": "stdout",
     "output_type": "stream",
     "text": [
      "Most recent school bus detection:\n",
      "timestamp     2025-05-09 15:01:00\n",
      "label_1                school bus\n",
      "count_1                         2\n",
      "avg_conf_1                   0.94\n",
      "label_2                       NaN\n",
      "count_2                       NaN\n",
      "avg_conf_2                    NaN\n",
      "label_3                       NaN\n",
      "count_3                       NaN\n",
      "avg_conf_3                    NaN\n",
      "Name: 126, dtype: object\n"
     ]
    }
   ],
   "source": [
    "mask = (\n",
    "    combined_df['label_1'].astype(str).str.lower().str.strip() == 'school bus'\n",
    ")\n",
    "if 'label_2' in combined_df.columns:\n",
    "    mask |= (combined_df['label_2'].astype(str).str.lower().str.strip() == 'school bus')\n",
    "if 'label_3' in combined_df.columns:\n",
    "    mask |= (combined_df['label_3'].astype(str).str.lower().str.strip() == 'school bus')\n",
    "\n",
    "bus_df = combined_df[mask]\n",
    "if not bus_df.empty:\n",
    "    most_recent = bus_df.sort_values('timestamp', ascending=False).iloc[0]\n",
    "    print(\"Most recent school bus detection:\")\n",
    "    print(most_recent)\n",
    "else:\n",
    "    print(\"No school bus found in any log.\")"
   ]
  },
  {
   "cell_type": "markdown",
   "metadata": {},
   "source": [
    "(Optional) Display All School Bus Detections"
   ]
  },
  {
   "cell_type": "code",
   "execution_count": 3,
   "metadata": {},
   "outputs": [
    {
     "data": {
      "text/html": [
       "<div>\n",
       "<style scoped>\n",
       "    .dataframe tbody tr th:only-of-type {\n",
       "        vertical-align: middle;\n",
       "    }\n",
       "\n",
       "    .dataframe tbody tr th {\n",
       "        vertical-align: top;\n",
       "    }\n",
       "\n",
       "    .dataframe thead th {\n",
       "        text-align: right;\n",
       "    }\n",
       "</style>\n",
       "<table border=\"1\" class=\"dataframe\">\n",
       "  <thead>\n",
       "    <tr style=\"text-align: right;\">\n",
       "      <th></th>\n",
       "      <th>timestamp</th>\n",
       "      <th>label_1</th>\n",
       "      <th>label_2</th>\n",
       "      <th>label_3</th>\n",
       "    </tr>\n",
       "  </thead>\n",
       "  <tbody>\n",
       "    <tr>\n",
       "      <th>126</th>\n",
       "      <td>2025-05-09 15:01:00</td>\n",
       "      <td>school bus</td>\n",
       "      <td>NaN</td>\n",
       "      <td>NaN</td>\n",
       "    </tr>\n",
       "    <tr>\n",
       "      <th>125</th>\n",
       "      <td>2025-05-09 07:07:00</td>\n",
       "      <td>school bus</td>\n",
       "      <td>NaN</td>\n",
       "      <td>NaN</td>\n",
       "    </tr>\n",
       "    <tr>\n",
       "      <th>119</th>\n",
       "      <td>2025-05-08 15:10:00</td>\n",
       "      <td>school bus</td>\n",
       "      <td>NaN</td>\n",
       "      <td>NaN</td>\n",
       "    </tr>\n",
       "    <tr>\n",
       "      <th>118</th>\n",
       "      <td>2025-05-08 07:14:00</td>\n",
       "      <td>school bus</td>\n",
       "      <td>NaN</td>\n",
       "      <td>NaN</td>\n",
       "    </tr>\n",
       "    <tr>\n",
       "      <th>112</th>\n",
       "      <td>2025-05-07 15:28:00</td>\n",
       "      <td>school bus</td>\n",
       "      <td>NaN</td>\n",
       "      <td>NaN</td>\n",
       "    </tr>\n",
       "    <tr>\n",
       "      <th>...</th>\n",
       "      <td>...</td>\n",
       "      <td>...</td>\n",
       "      <td>...</td>\n",
       "      <td>...</td>\n",
       "    </tr>\n",
       "    <tr>\n",
       "      <th>487</th>\n",
       "      <td>2024-05-13 07:00:00</td>\n",
       "      <td>school bus</td>\n",
       "      <td>NaN</td>\n",
       "      <td>NaN</td>\n",
       "    </tr>\n",
       "    <tr>\n",
       "      <th>472</th>\n",
       "      <td>2024-05-10 15:26:00</td>\n",
       "      <td>school bus</td>\n",
       "      <td>NaN</td>\n",
       "      <td>NaN</td>\n",
       "    </tr>\n",
       "    <tr>\n",
       "      <th>471</th>\n",
       "      <td>2024-05-10 07:06:00</td>\n",
       "      <td>school bus</td>\n",
       "      <td>NaN</td>\n",
       "      <td>NaN</td>\n",
       "    </tr>\n",
       "    <tr>\n",
       "      <th>466</th>\n",
       "      <td>2024-05-09 15:12:00</td>\n",
       "      <td>school bus</td>\n",
       "      <td>NaN</td>\n",
       "      <td>NaN</td>\n",
       "    </tr>\n",
       "    <tr>\n",
       "      <th>465</th>\n",
       "      <td>2024-05-09 07:18:00</td>\n",
       "      <td>school bus</td>\n",
       "      <td>NaN</td>\n",
       "      <td>NaN</td>\n",
       "    </tr>\n",
       "  </tbody>\n",
       "</table>\n",
       "<p>434 rows × 4 columns</p>\n",
       "</div>"
      ],
      "text/plain": [
       "              timestamp     label_1 label_2 label_3\n",
       "126 2025-05-09 15:01:00  school bus     NaN     NaN\n",
       "125 2025-05-09 07:07:00  school bus     NaN     NaN\n",
       "119 2025-05-08 15:10:00  school bus     NaN     NaN\n",
       "118 2025-05-08 07:14:00  school bus     NaN     NaN\n",
       "112 2025-05-07 15:28:00  school bus     NaN     NaN\n",
       "..                  ...         ...     ...     ...\n",
       "487 2024-05-13 07:00:00  school bus     NaN     NaN\n",
       "472 2024-05-10 15:26:00  school bus     NaN     NaN\n",
       "471 2024-05-10 07:06:00  school bus     NaN     NaN\n",
       "466 2024-05-09 15:12:00  school bus     NaN     NaN\n",
       "465 2024-05-09 07:18:00  school bus     NaN     NaN\n",
       "\n",
       "[434 rows x 4 columns]"
      ]
     },
     "metadata": {},
     "output_type": "display_data"
    }
   ],
   "source": [
    "if not bus_df.empty:\n",
    "    display(bus_df[['timestamp', 'label_1', 'label_2', 'label_3']].sort_values('timestamp', ascending=False))"
   ]
  },
  {
   "cell_type": "markdown",
   "metadata": {},
   "source": [
    "# Prototype: Interactive CLI Assistant for School Bus Queries"
   ]
  },
  {
   "cell_type": "code",
   "execution_count": 4,
   "metadata": {},
   "outputs": [
    {
     "data": {
      "application/vnd.jupyter.widget-view+json": {
       "model_id": "de54b2e0d0f24dc8b0a35c6bc0e8b64b",
       "version_major": 2,
       "version_minor": 0
      },
      "text/plain": [
       "Text(value='', description='Query:', placeholder='Type your question here...')"
      ]
     },
     "metadata": {},
     "output_type": "display_data"
    },
    {
     "data": {
      "application/vnd.jupyter.widget-view+json": {
       "model_id": "2c03ac6f09a24fa9ad0151b561198562",
       "version_major": 2,
       "version_minor": 0
      },
      "text/plain": [
       "Output()"
      ]
     },
     "metadata": {},
     "output_type": "display_data"
    }
   ],
   "source": [
    "import os\n",
    "import pandas as pd\n",
    "from datetime import datetime\n",
    "import ipywidgets as widgets\n",
    "from IPython.display import display, clear_output\n",
    "\n",
    "# Load and combine logs once\n",
    "log_dir = '../data/raw'\n",
    "log_files = [f for f in os.listdir(log_dir) if f.endswith('.csv')]\n",
    "all_dfs = []\n",
    "for f in log_files:\n",
    "    file_path = os.path.join(log_dir, f)\n",
    "    try:\n",
    "        df = pd.read_csv(file_path)\n",
    "        df['timestamp'] = pd.to_datetime(df['timestamp'])\n",
    "        all_dfs.append(df)\n",
    "    except Exception as e:\n",
    "        print(f\"Error loading {f}: {e}\")\n",
    "if all_dfs:\n",
    "    combined_df = pd.concat(all_dfs, ignore_index=True)\n",
    "else:\n",
    "    combined_df = pd.DataFrame()\n",
    "\n",
    "def assistant_response(query):\n",
    "    query = query.lower()\n",
    "    if \"school bus\" not in query:\n",
    "        return \"This prototype only answers questions about school buses.\"\n",
    "    # Time expression parsing\n",
    "    if \"today\" in query:\n",
    "        today = pd.Timestamp.today().normalize()\n",
    "        df = combined_df[combined_df['timestamp'].dt.date == today.date()]\n",
    "    elif \"yesterday\" in query:\n",
    "        yesterday = (pd.Timestamp.today() - pd.Timedelta(days=1)).normalize()\n",
    "        df = combined_df[combined_df['timestamp'].dt.date == yesterday.date()]\n",
    "    else:\n",
    "        df = combined_df\n",
    "    # Search for 'school bus'\n",
    "    mask = (\n",
    "        df['label_1'].astype(str).str.lower().str.strip() == 'school bus'\n",
    "    )\n",
    "    if 'label_2' in df.columns:\n",
    "        mask |= (df['label_2'].astype(str).str.lower().str.strip() == 'school bus')\n",
    "    if 'label_3' in df.columns:\n",
    "        mask |= (df['label_3'].astype(str).str.lower().str.strip() == 'school bus')\n",
    "    bus_df = df[mask]\n",
    "    if not bus_df.empty:\n",
    "        most_recent = bus_df.sort_values('timestamp', ascending=False).iloc[0]\n",
    "        return f\"Yes, I last saw a school bus at {most_recent['timestamp']}.\"\n",
    "    else:\n",
    "        return \"No, I did not see a school bus.\"\n",
    "\n",
    "# Create widgets\n",
    "input_box = widgets.Text(\n",
    "    value='',\n",
    "    placeholder='Type your question here...',\n",
    "    description='Query:',\n",
    "    disabled=False\n",
    ")\n",
    "output = widgets.Output()\n",
    "\n",
    "def on_submit(text):\n",
    "    with output:\n",
    "        clear_output()\n",
    "        response = assistant_response(text.value)\n",
    "        print(response)\n",
    "\n",
    "input_box.on_submit(on_submit)\n",
    "display(input_box, output)"
   ]
  },
  {
   "cell_type": "code",
   "execution_count": null,
   "metadata": {},
   "outputs": [],
   "source": []
  }
 ],
 "metadata": {
  "kernelspec": {
   "display_name": "yolo8",
   "language": "python",
   "name": "python3"
  },
  "language_info": {
   "codemirror_mode": {
    "name": "ipython",
    "version": 3
   },
   "file_extension": ".py",
   "mimetype": "text/x-python",
   "name": "python",
   "nbconvert_exporter": "python",
   "pygments_lexer": "ipython3",
   "version": "3.10.17"
  }
 },
 "nbformat": 4,
 "nbformat_minor": 2
}
