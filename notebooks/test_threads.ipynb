{
 "cells": [
  {
   "cell_type": "code",
   "execution_count": 1,
   "metadata": {},
   "outputs": [],
   "source": [
    "from openai import OpenAI\n",
    "from dotenv import load_dotenv, find_dotenv\n",
    "import os\n",
    "from datetime import datetime\n",
    "import time\n",
    "import pathlib \n",
    "\n",
    "project_dir=pathlib.Path(\"/media/hawksley/E2B01BDEB01BB7CD/Users/hawks/Documents/Harvard/CSCI E-104 Advanced Deep Learning/Final Project\")\n",
    "log_dir=project_dir/\"data/raw\"\n",
    "csv_path=project_dir/\"outputs/combined_logs.csv\""
   ]
  },
  {
   "cell_type": "code",
   "execution_count": 2,
   "metadata": {},
   "outputs": [],
   "source": [
    "# 1. Load API key and create client\n",
    "_ = load_dotenv(find_dotenv())\n",
    "client = OpenAI(\n",
    "    api_key=os.getenv(\"OPENAI_TOKEN\"),\n",
    "    default_headers={\"OpenAI-Beta\": \"assistants=v2\"}\n",
    ")"
   ]
  },
  {
   "cell_type": "code",
   "execution_count": 3,
   "metadata": {},
   "outputs": [
    {
     "name": "stdout",
     "output_type": "stream",
     "text": [
      "File IDs: ['file-LdPLNS2aAgxLuYwevbmnV9']\n"
     ]
    }
   ],
   "source": [
    "# 2. Upload your CSV file(s)\n",
    "file_ids = []\n",
    "for path in [csv_path]:  # Add more files as needed\n",
    "    with open(path, \"rb\") as f:\n",
    "        file_obj = client.files.create(file=f, purpose=\"assistants\")\n",
    "        file_ids.append(file_obj.id)\n",
    "print(\"File IDs:\", file_ids)"
   ]
  },
  {
   "cell_type": "code",
   "execution_count": 10,
   "metadata": {},
   "outputs": [
    {
     "name": "stdout",
     "output_type": "stream",
     "text": [
      "Assistant ID: asst_K79674mKbD9fBTp7jYrOPwl6\n"
     ]
    }
   ],
   "source": [
    "# 3. Create the assistant (no file_ids needed)\n",
    "today = datetime.now().strftime(\"%Y-%m-%d\")\n",
    "instructions = (\n",
    "    \"You are a detection log and date/time expert. Use Python and pandas to analyze the detection logs. \"\n",
    "    \"Only answer using your knowledge of the date and time and the detection logs.\\n\"\n",
    "    f\"Today's date is {today}. For any questions involving time, such as 'most recent', \"\n",
    "    \"'last', 'yesterday', 'last week', 'last month', 'this winter', or any other relative \"\n",
    "    \"date or time phrase, use this date as the reference for 'today'. \"\n",
    "    \"You have access to the detection logs as CSV files and can use Python and pandas to analyze them.\"\n",
    ")\n",
    "assistant = client.beta.assistants.create(\n",
    "    name=\"AI Report Assistant\",\n",
    "    instructions=instructions,\n",
    "    model=\"gpt-3.5-turbo\", #\"gpt-4o\",\n",
    "    tools=[{\"type\": \"code_interpreter\"}]\n",
    ")\n",
    "print(\"Assistant ID:\", assistant.id)"
   ]
  },
  {
   "cell_type": "code",
   "execution_count": 11,
   "metadata": {},
   "outputs": [
    {
     "name": "stdout",
     "output_type": "stream",
     "text": [
      "Thread ID: thread_3PEVw0zLlwsWE8nzN7KWUzii\n"
     ]
    }
   ],
   "source": [
    "# 4. Create a thread\n",
    "thread = client.beta.threads.create()\n",
    "print(\"Thread ID:\", thread.id)"
   ]
  },
  {
   "cell_type": "code",
   "execution_count": 12,
   "metadata": {},
   "outputs": [
    {
     "name": "stdout",
     "output_type": "stream",
     "text": [
      "User message sent.\n"
     ]
    }
   ],
   "source": [
    "# 5. Send a message with the file attached\n",
    "user_input = \"What is the date and time of the last record for when a school bus was detected?\"\n",
    "user_message = client.beta.threads.messages.create(\n",
    "    thread_id=thread.id,\n",
    "    role=\"user\",\n",
    "    content=user_input,\n",
    "    attachments=[{\"file_id\": file_id, \"tools\": [{\"type\": \"code_interpreter\"}]} for file_id in file_ids]\n",
    ")\n",
    "print(\"User message sent.\")"
   ]
  },
  {
   "cell_type": "code",
   "execution_count": 13,
   "metadata": {},
   "outputs": [
    {
     "name": "stdout",
     "output_type": "stream",
     "text": [
      "Run started. Waiting for completion...\n"
     ]
    }
   ],
   "source": [
    "# # 6. Run the assistant on the thread\n",
    "# run = client.beta.threads.runs.create(\n",
    "#     thread_id=thread.id,\n",
    "#     assistant_id=assistant.id\n",
    "# )\n",
    "# print(\"Run started. Waiting for completion...\")"
   ]
  },
  {
   "cell_type": "code",
   "execution_count": 14,
   "metadata": {},
   "outputs": [],
   "source": [
    "# # 7. Poll for run completion\n",
    "# while True:\n",
    "#     run_status = client.beta.threads.runs.retrieve(thread_id=thread.id, run_id=run.id)\n",
    "#     if run_status.status == \"completed\":\n",
    "#         break\n",
    "#     elif run_status.status in {\"failed\", \"cancelled\", \"expired\"}:\n",
    "#         raise RuntimeError(f\"Run failed: {run_status.status}\")\n",
    "#     time.sleep(1)"
   ]
  },
  {
   "cell_type": "code",
   "execution_count": 15,
   "metadata": {},
   "outputs": [
    {
     "name": "stdout",
     "output_type": "stream",
     "text": [
      "Assistant response: The date and time of the last record for when a school bus was detected is on May 9, 2025, at 15:01:00.\n",
      "Assistant response: The detection log contains information about different objects detected at various timestamps. To find the date and time of the last record for when a school bus was detected, we can filter the dataframe for rows where 'label_1' or 'label_2' is 'school bus' and then identify the record with the latest timestamp.\n",
      "\n",
      "Let's proceed with this analysis.\n",
      "Assistant response: What is the date and time of the last record for when a school bus was detected?\n"
     ]
    }
   ],
   "source": [
    "# # 8. Retrieve and print the assistant's response\n",
    "# messages = client.beta.threads.messages.list(thread_id=thread.id)\n",
    "# for msg in messages.data:\n",
    "#     for content in msg.content:\n",
    "#         if hasattr(content, \"text\"):\n",
    "#             print(\"Assistant response:\", content.text.value)"
   ]
  },
  {
   "cell_type": "code",
   "execution_count": 24,
   "metadata": {},
   "outputs": [
    {
     "name": "stdout",
     "output_type": "stream",
     "text": [
      "Run started. Waiting for completion...\n",
      "Assistant response: The following objects were more likely to be detected at night:\n",
      "\n",
      "- Racoon\n",
      "- Newspaper\n",
      "- Skunk\n",
      "- Truck\n",
      "- Police car\n",
      "- Bench\n",
      "- Snow plow\n",
      "- Fire truck\n",
      "- Bus\n",
      "- Person\n",
      "\n",
      "These objects showed a higher frequency of detection during nighttime hours (from 8:00 PM to 5:59 AM) compared to other objects in the detection logs.\n"
     ]
    }
   ],
   "source": [
    "# Cell: Ask a new question (repeat as much as you want)\n",
    "user_input = \"Were any objects more likely to be detected at night?\"\n",
    "user_message = client.beta.threads.messages.create(\n",
    "    thread_id=thread.id,\n",
    "    role=\"user\",\n",
    "    content=user_input\n",
    ")\n",
    "run = client.beta.threads.runs.create(\n",
    "    thread_id=thread.id,\n",
    "    assistant_id=assistant.id\n",
    ")\n",
    "print(\"Run started. Waiting for completion...\")\n",
    "\n",
    "while True:\n",
    "    run_status = client.beta.threads.runs.retrieve(thread_id=thread.id, run_id=run.id)\n",
    "    if run_status.status == \"completed\":\n",
    "        break\n",
    "    elif run_status.status in {\"failed\", \"cancelled\", \"expired\"}:\n",
    "        raise RuntimeError(f\"Run failed: {run_status.status}\")\n",
    "    time.sleep(1)\n",
    "\n",
    "messages = client.beta.threads.messages.list(thread_id=thread.id)\n",
    "latest_msg = messages.data[0]  # Most recent message\n",
    "for content in latest_msg.content:\n",
    "    if hasattr(content, \"text\"):\n",
    "        print(\"Assistant response:\", content.text.value)"
   ]
  },
  {
   "cell_type": "code",
   "execution_count": null,
   "metadata": {},
   "outputs": [],
   "source": []
  }
 ],
 "metadata": {
  "kernelspec": {
   "display_name": "yolo8",
   "language": "python",
   "name": "python3"
  },
  "language_info": {
   "codemirror_mode": {
    "name": "ipython",
    "version": 3
   },
   "file_extension": ".py",
   "mimetype": "text/x-python",
   "name": "python",
   "nbconvert_exporter": "python",
   "pygments_lexer": "ipython3",
   "version": "3.10.17"
  }
 },
 "nbformat": 4,
 "nbformat_minor": 2
}
